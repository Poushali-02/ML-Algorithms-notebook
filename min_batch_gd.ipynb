{
  "nbformat": 4,
  "nbformat_minor": 0,
  "metadata": {
    "colab": {
      "provenance": [],
      "toc_visible": true,
      "authorship_tag": "ABX9TyPCexUs6w6ctwfVozC2ho04",
      "include_colab_link": true
    },
    "kernelspec": {
      "name": "python3",
      "display_name": "Python 3"
    },
    "language_info": {
      "name": "python"
    }
  },
  "cells": [
    {
      "cell_type": "markdown",
      "metadata": {
        "id": "view-in-github",
        "colab_type": "text"
      },
      "source": [
        "<a href=\"https://colab.research.google.com/github/Poushali-02/ML-Algorithms-notebook/blob/main/min_batch_gd.ipynb\" target=\"_parent\"><img src=\"https://colab.research.google.com/assets/colab-badge.svg\" alt=\"Open In Colab\"/></a>"
      ]
    },
    {
      "cell_type": "code",
      "execution_count": 2,
      "metadata": {
        "colab": {
          "base_uri": "https://localhost:8080/"
        },
        "id": "Z4lGDFWBnMYy",
        "outputId": "5a410e7c-7094-496f-dcf8-0db62c49eaf6"
      },
      "outputs": [
        {
          "output_type": "stream",
          "name": "stdout",
          "text": [
            "(442, 10)\n",
            "(442,)\n"
          ]
        }
      ],
      "source": [
        "import numpy as np\n",
        "import random\n",
        "import pandas as pd\n",
        "from sklearn.datasets import load_diabetes\n",
        "from sklearn.model_selection import train_test_split\n",
        "from sklearn.metrics import r2_score\n",
        "X,y = load_diabetes(return_X_y=True)\n",
        "print(X.shape)\n",
        "print(y.shape)"
      ]
    },
    {
      "cell_type": "code",
      "source": [
        "X_train, X_test, y_train, y_test = train_test_split(X,y,test_size=0.2,random_state=2)"
      ],
      "metadata": {
        "id": "WSuWAf8IpH9S"
      },
      "execution_count": 6,
      "outputs": []
    },
    {
      "cell_type": "code",
      "source": [
        "class mbgdRegressor:\n",
        "  def __init__(self, batch_size = 10,epochs=100, learning_rate=0.1):\n",
        "    self.coef_ = None\n",
        "    self.intercept_ = None\n",
        "    self.epoch = epochs\n",
        "    self.lr = learning_rate\n",
        "    self.batch_size = batch_size\n",
        "\n",
        "  def fit(self, X_train, y_train):\n",
        "    self.intercept_ = 0\n",
        "    self.coef_ = np.ones(X_train.shape[1])\n",
        "    batches = X_train.shape[0] // self.batch_size\n",
        "\n",
        "    for i in range(self.epoch):\n",
        "      for j in range(batches):\n",
        "        index = random.sample(range(X_train.shape[0]), self.batch_size)\n",
        "\n",
        "        y_prediction = np.dot(X_train[index], self.coef_) + self.intercept_\n",
        "        loss_function = y_train[index] - y_prediction\n",
        "\n",
        "        intercept_slope = -2 * np.mean(loss_function)\n",
        "        coefficient_slope = -2 * (np.dot(loss_function, X_train[index])) / self.batch_size\n",
        "\n",
        "        self.intercept_ = self.intercept_ - (self.lr * intercept_slope)\n",
        "        self.coef_ = self.coef_ - (self.lr * coefficient_slope)\n",
        "\n",
        "  def predict(self, X_test):\n",
        "    return np.dot(X_test, self.coef_) + self.intercept_"
      ],
      "metadata": {
        "id": "h1YC-zrEoQ8U"
      },
      "execution_count": 16,
      "outputs": []
    },
    {
      "cell_type": "code",
      "source": [
        "mini_batch = mbgdRegressor(batch_size=int(X.shape[0]/10), learning_rate=0.05, epochs=1000)"
      ],
      "metadata": {
        "id": "hoZ_ACxEo7XB"
      },
      "execution_count": 29,
      "outputs": []
    },
    {
      "cell_type": "code",
      "source": [
        "mini_batch.fit(X_train, y_train)"
      ],
      "metadata": {
        "id": "872hsbnzpBzm"
      },
      "execution_count": 30,
      "outputs": []
    },
    {
      "cell_type": "code",
      "source": [
        "y_pred = mini_batch.predict(X_test)"
      ],
      "metadata": {
        "id": "C7mXm7YapEYF"
      },
      "execution_count": 31,
      "outputs": []
    },
    {
      "cell_type": "code",
      "source": [
        "r2_score(y_test,y_pred)"
      ],
      "metadata": {
        "colab": {
          "base_uri": "https://localhost:8080/"
        },
        "id": "6I8XE9P3pMhe",
        "outputId": "259f21b4-c70f-4030-a945-debfd85e54c8"
      },
      "execution_count": 32,
      "outputs": [
        {
          "output_type": "execute_result",
          "data": {
            "text/plain": [
              "0.45381514959468316"
            ]
          },
          "metadata": {},
          "execution_count": 32
        }
      ]
    },
    {
      "cell_type": "code",
      "source": [],
      "metadata": {
        "id": "9YTa2oulp8z1"
      },
      "execution_count": null,
      "outputs": []
    }
  ]
}