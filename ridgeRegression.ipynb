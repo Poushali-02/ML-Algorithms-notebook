{
  "nbformat": 4,
  "nbformat_minor": 0,
  "metadata": {
    "colab": {
      "provenance": [],
      "authorship_tag": "ABX9TyPtuUS9GNmk8VqQfPbgEabm",
      "include_colab_link": true
    },
    "kernelspec": {
      "name": "python3",
      "display_name": "Python 3"
    },
    "language_info": {
      "name": "python"
    }
  },
  "cells": [
    {
      "cell_type": "markdown",
      "metadata": {
        "id": "view-in-github",
        "colab_type": "text"
      },
      "source": [
        "<a href=\"https://colab.research.google.com/github/Poushali-02/ML-Algorithms-notebook/blob/main/ridgeRegression.ipynb\" target=\"_parent\"><img src=\"https://colab.research.google.com/assets/colab-badge.svg\" alt=\"Open In Colab\"/></a>"
      ]
    },
    {
      "cell_type": "code",
      "execution_count": 2,
      "metadata": {
        "colab": {
          "base_uri": "https://localhost:8080/"
        },
        "id": "vZ7-TLohHtla",
        "outputId": "dd685942-81f6-447c-e9eb-6770663c3d57"
      },
      "outputs": [
        {
          "output_type": "execute_result",
          "data": {
            "text/plain": [
              "(442, 10)"
            ]
          },
          "metadata": {},
          "execution_count": 2
        }
      ],
      "source": [
        "import pandas as pd\n",
        "import numpy as np\n",
        "import matplotlib.pyplot as plt\n",
        "import seaborn as sns\n",
        "from sklearn.datasets import load_diabetes\n",
        "X,y = load_diabetes(return_X_y=True)\n",
        "X.shape"
      ]
    },
    {
      "cell_type": "code",
      "source": [
        "y.shape"
      ],
      "metadata": {
        "colab": {
          "base_uri": "https://localhost:8080/"
        },
        "id": "X5Ft8SIONlUG",
        "outputId": "86feed0a-5b31-4808-a32d-bd64377a4140"
      },
      "execution_count": 3,
      "outputs": [
        {
          "output_type": "execute_result",
          "data": {
            "text/plain": [
              "(442,)"
            ]
          },
          "metadata": {},
          "execution_count": 3
        }
      ]
    },
    {
      "cell_type": "code",
      "source": [
        "from sklearn.model_selection import train_test_split\n",
        "X_train, X_test, y_train, y_test = train_test_split(X, y, test_size=0.2, random_state=2)"
      ],
      "metadata": {
        "id": "9Lqhe3c3OYPo"
      },
      "execution_count": 5,
      "outputs": []
    },
    {
      "cell_type": "code",
      "source": [
        "class ridgeRegularization:\n",
        "  def __init__(self, alpha=0.1):\n",
        "    self.alpha = alpha\n",
        "    self.coef_ = None\n",
        "    self.intercept_ = None\n",
        "\n",
        "  def fit(self, X_train, y_train):\n",
        "    X_train = np.insert(X_train, 0, 1, axis = 1)\n",
        "    I = np.identity(X_train.shape[1])\n",
        "    I[0][0] = 0\n",
        "    W = (np.linalg.inv(np.dot(X_train.T, X_train) + self.alpha * I).dot(X_train.T).dot(y_train))\n",
        "\n",
        "    self.intercept_ = W[0]\n",
        "    self.coef_ = W[1:]\n",
        "\n",
        "\n",
        "  def predict(self, X_test):\n",
        "    return np.dot(X_test, self.coef_) + self.intercept_"
      ],
      "metadata": {
        "id": "M7qBk2tmNs0I"
      },
      "execution_count": 10,
      "outputs": []
    },
    {
      "cell_type": "code",
      "source": [
        "ridge = ridgeRegularization()\n",
        "ridge.fit(X_train, y_train)"
      ],
      "metadata": {
        "id": "49kJ01o7OQsf"
      },
      "execution_count": 11,
      "outputs": []
    },
    {
      "cell_type": "code",
      "source": [
        "y_pred = ridge.predict(X_test)"
      ],
      "metadata": {
        "id": "fBXjbnNUQhGb"
      },
      "execution_count": 12,
      "outputs": []
    },
    {
      "cell_type": "code",
      "source": [
        "from sklearn.metrics import r2_score\n",
        "r2_score(y_test, y_pred)"
      ],
      "metadata": {
        "colab": {
          "base_uri": "https://localhost:8080/"
        },
        "id": "W_TrqlK1QlkU",
        "outputId": "f2ff71a8-6c9a-4bad-b1af-3fc67fa649f9"
      },
      "execution_count": 13,
      "outputs": [
        {
          "output_type": "execute_result",
          "data": {
            "text/plain": [
              "0.45199494197195456"
            ]
          },
          "metadata": {},
          "execution_count": 13
        }
      ]
    },
    {
      "cell_type": "code",
      "source": [],
      "metadata": {
        "id": "UOce8m-jQqnw"
      },
      "execution_count": null,
      "outputs": []
    }
  ]
}