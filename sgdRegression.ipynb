{
  "nbformat": 4,
  "nbformat_minor": 0,
  "metadata": {
    "colab": {
      "provenance": [],
      "toc_visible": true,
      "authorship_tag": "ABX9TyMVPLle1iW8B2w8u/4epn2u",
      "include_colab_link": true
    },
    "kernelspec": {
      "name": "python3",
      "display_name": "Python 3"
    },
    "language_info": {
      "name": "python"
    }
  },
  "cells": [
    {
      "cell_type": "markdown",
      "metadata": {
        "id": "view-in-github",
        "colab_type": "text"
      },
      "source": [
        "<a href=\"https://colab.research.google.com/github/Poushali-02/ML-Algorithms-notebook/blob/main/sgdRegression.ipynb\" target=\"_parent\"><img src=\"https://colab.research.google.com/assets/colab-badge.svg\" alt=\"Open In Colab\"/></a>"
      ]
    },
    {
      "cell_type": "code",
      "execution_count": 36,
      "metadata": {
        "colab": {
          "base_uri": "https://localhost:8080/"
        },
        "id": "Xxc9lQFNUFg9",
        "outputId": "791dd1a7-1290-4928-e9e9-8c27f5d555a5"
      },
      "outputs": [
        {
          "output_type": "stream",
          "name": "stdout",
          "text": [
            "(442, 10)\n",
            "(442,)\n"
          ]
        }
      ],
      "source": [
        "import numpy as np\n",
        "import pandas as pd\n",
        "from sklearn.datasets import load_diabetes\n",
        "from sklearn.model_selection import train_test_split\n",
        "from sklearn.metrics import r2_score\n",
        "X,y = load_diabetes(return_X_y=True)\n",
        "print(X.shape)\n",
        "print(y.shape)\n",
        "import time"
      ]
    },
    {
      "cell_type": "code",
      "source": [
        "X_train, X_test, y_train, y_test = train_test_split(X,y,test_size=0.2,random_state=2)"
      ],
      "metadata": {
        "id": "Ya-hzdVkUXp7"
      },
      "execution_count": 37,
      "outputs": []
    },
    {
      "cell_type": "code",
      "source": [
        "class sgdRegressor:\n",
        "  def __init__(self, epochs=100, learning_rate=0.1):\n",
        "    self.coef_ = None\n",
        "    self.intercept_ = None\n",
        "    self.epoch = epochs\n",
        "    self.lr = learning_rate\n",
        "\n",
        "  def fit(self, X_train, y_train):\n",
        "    self.intercept_ = 0\n",
        "    self.coef_ = np.ones(X_train.shape[1])\n",
        "\n",
        "    #calculating intercept and coefficients\n",
        "    for i in range(self.epoch):\n",
        "      for j in range(X_train.shape[0]):\n",
        "        index = np.random.randint(0, X_train.shape[0])\n",
        "\n",
        "        y_prediction = np.dot(X_train[index], self.coef_) + self.intercept_\n",
        "        loss_function = y_train[index] - y_prediction\n",
        "\n",
        "        intercept_slope = -2 * (loss_function)\n",
        "        coefficient_slope = -2 * (np.dot(loss_function, X_train[index]))\n",
        "\n",
        "        self.intercept_ = self.intercept_ - (self.lr * intercept_slope)\n",
        "        self.coef_ = self.coef_ - (self.lr * coefficient_slope)\n",
        "\n",
        "  def predict(self, X_test):\n",
        "    return np.dot(X_test, self.coef_) + self.intercept_"
      ],
      "metadata": {
        "id": "dgIt6hsrUpOW"
      },
      "execution_count": 38,
      "outputs": []
    },
    {
      "cell_type": "code",
      "source": [
        "start = time.time()\n",
        "sgd = sgdRegressor(epochs=10, learning_rate=0.1)\n",
        "sgd.fit(X_train, y_train)\n",
        "y_pred = sgd.predict(X_test)\n",
        "print(\"R2 score is\", r2_score(y_test, y_pred))\n",
        "print(\"Time taken\", time.time()-start)"
      ],
      "metadata": {
        "colab": {
          "base_uri": "https://localhost:8080/"
        },
        "id": "Rl2QOswzVT5P",
        "outputId": "e75ada26-e12b-4ad8-d238-5687b1612159"
      },
      "execution_count": 46,
      "outputs": [
        {
          "output_type": "stream",
          "name": "stdout",
          "text": [
            "R2 score is 0.44374455370273136\n",
            "Time taken 0.042440176010131836\n"
          ]
        }
      ]
    },
    {
      "cell_type": "code",
      "source": [],
      "metadata": {
        "id": "rWkMvy_NVdb6"
      },
      "execution_count": null,
      "outputs": []
    }
  ]
}