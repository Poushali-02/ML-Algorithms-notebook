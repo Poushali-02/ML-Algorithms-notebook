{
  "nbformat": 4,
  "nbformat_minor": 0,
  "metadata": {
    "colab": {
      "provenance": [],
      "toc_visible": true,
      "authorship_tag": "ABX9TyNxZzGLXp34KRyHQ0iNXzwy",
      "include_colab_link": true
    },
    "kernelspec": {
      "name": "python3",
      "display_name": "Python 3"
    },
    "language_info": {
      "name": "python"
    }
  },
  "cells": [
    {
      "cell_type": "markdown",
      "metadata": {
        "id": "view-in-github",
        "colab_type": "text"
      },
      "source": [
        "<a href=\"https://colab.research.google.com/github/Poushali-02/ML-Algorithms-notebook/blob/main/batchGD.ipynb\" target=\"_parent\"><img src=\"https://colab.research.google.com/assets/colab-badge.svg\" alt=\"Open In Colab\"/></a>"
      ]
    },
    {
      "cell_type": "code",
      "execution_count": 14,
      "metadata": {
        "id": "KiMFJOxNC4Dd"
      },
      "outputs": [],
      "source": [
        "import pandas as pd\n",
        "import numpy as np\n",
        "from sklearn.model_selection import train_test_split\n",
        "from sklearn.datasets import load_diabetes\n",
        "X,y = load_diabetes(return_X_y=True)"
      ]
    },
    {
      "cell_type": "code",
      "source": [
        "X.shape"
      ],
      "metadata": {
        "colab": {
          "base_uri": "https://localhost:8080/"
        },
        "id": "Ep2Cva5yGkC0",
        "outputId": "dc900f68-b21e-4109-ba8f-67119ef3fe77"
      },
      "execution_count": 15,
      "outputs": [
        {
          "output_type": "execute_result",
          "data": {
            "text/plain": [
              "(442, 10)"
            ]
          },
          "metadata": {},
          "execution_count": 15
        }
      ]
    },
    {
      "cell_type": "code",
      "source": [
        "y.shape"
      ],
      "metadata": {
        "colab": {
          "base_uri": "https://localhost:8080/"
        },
        "id": "9sqpBEZqG53O",
        "outputId": "0de92a4f-1e13-4afd-9b67-090b5812cc58"
      },
      "execution_count": 16,
      "outputs": [
        {
          "output_type": "execute_result",
          "data": {
            "text/plain": [
              "(442,)"
            ]
          },
          "metadata": {},
          "execution_count": 16
        }
      ]
    },
    {
      "cell_type": "code",
      "source": [
        "X_train,X_test, y_train, y_test = train_test_split(X, y, test_size=0.2, random_state=42)"
      ],
      "metadata": {
        "id": "CWB_CXCaG85z"
      },
      "execution_count": 33,
      "outputs": []
    },
    {
      "cell_type": "code",
      "source": [
        "class gdRegressor:\n",
        "  def __init__(self, epochs=100, learning_rate=0.1):\n",
        "    self.coef_ = None\n",
        "    self.intercept_ = None\n",
        "    self.epoch = epochs\n",
        "    self.lr = learning_rate\n",
        "\n",
        "  def fit(self, X_train, y_train):\n",
        "    self.intercept_ = 0\n",
        "    self.coef_ = np.ones(X_train.shape[1])\n",
        "\n",
        "    #calculating intercept and coefficients\n",
        "    for i in range(self.epoch):\n",
        "      y_prediction = np.dot(X_train, self.coef_) + self.intercept_\n",
        "      loss_function = y_train - y_prediction\n",
        "\n",
        "      intercept_slope = -2 * np.mean(loss_function)\n",
        "      coefficient_slope = -2 * (np.dot(loss_function, X_train)) / X_train.shape[0]\n",
        "\n",
        "      self.intercept_ = self.intercept_ - (self.lr * intercept_slope)\n",
        "      self.coef_ = self.coef_ - (self.lr * coefficient_slope)\n",
        "\n",
        "  def predict(self, X_test):\n",
        "    return np.dot(X_test, self.coef_) + self.intercept_"
      ],
      "metadata": {
        "id": "53-n8t5CHK5k"
      },
      "execution_count": 100,
      "outputs": []
    },
    {
      "cell_type": "code",
      "source": [
        "import time\n",
        "from sklearn.metrics import r2_score\n",
        "gd = gdRegressor(epochs=1000, learning_rate=0.1)\n",
        "start = time.time()\n",
        "gd.fit(X_train, y_train)\n",
        "y_pred = gd.predict(X_test)\n",
        "print(\"R2 score is\", r2_score(y_test, y_pred))\n",
        "print(\"Time taken\", time.time()-start)"
      ],
      "metadata": {
        "colab": {
          "base_uri": "https://localhost:8080/"
        },
        "id": "Z8ZpvdrgdEBo",
        "outputId": "c32e2e7d-a2fb-495f-8e72-f6cb9b39d9fe"
      },
      "execution_count": 108,
      "outputs": [
        {
          "output_type": "stream",
          "name": "stdout",
          "text": [
            "R2 score is 0.41666791172170725\n",
            "Time taken 0.04715561866760254\n"
          ]
        }
      ]
    },
    {
      "cell_type": "code",
      "source": [],
      "metadata": {
        "id": "dUv3VWD1dTtT"
      },
      "execution_count": null,
      "outputs": []
    }
  ]
}